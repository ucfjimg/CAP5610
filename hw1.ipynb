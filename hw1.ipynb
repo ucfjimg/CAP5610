{
 "cells": [
  {
   "cell_type": "code",
   "execution_count": 1,
   "id": "approved-instrumentation",
   "metadata": {},
   "outputs": [],
   "source": [
    "import pandas as pd\n",
    "import numpy as np\n",
    "import matplotlib.pyplot as plt\n",
    "import scipy.stats as sps\n",
    "\n",
    "plt.rcParams[\"figure.figsize\"] = (10, 10)\n",
    "\n",
    "root = '/home/jimge/public/CAP5610/hw1/'\n",
    "\n",
    "train = pd.read_csv(root + 'train.csv')\n",
    "test = pd.read_csv(root + 'test.csv')\n",
    "combined = pd.concat([train, test])\n",
    "cat_features = ['Pclass', 'Name', 'Sex', 'Ticket', 'Cabin', 'Embarked']\n",
    "num_features = [\"Age\", \"SibSp\", \"Parch\", \"Fare\"]"
   ]
  },
  {
   "cell_type": "code",
   "execution_count": 3,
   "id": "initial-electronics",
   "metadata": {},
   "outputs": [
    {
     "name": "stdout",
     "output_type": "stream",
     "text": [
      "PassengerId, Pclass, Name, Sex, Age, SibSp, Parch, Ticket, Fare, Cabin, Embarked\n"
     ]
    }
   ],
   "source": [
    "'''\n",
    "Q1 In the training set, which features are available?\n",
    "'''\n",
    "\n",
    "print(', '.join([f for f in train.columns if f != 'Survived']))"
   ]
  },
  {
   "cell_type": "code",
   "execution_count": 3,
   "id": "dominican-trainer",
   "metadata": {},
   "outputs": [
    {
     "name": "stdout",
     "output_type": "stream",
     "text": [
      "*** training missing values\n",
      "Age         177\n",
      "Cabin       687\n",
      "Embarked      2\n",
      "dtype: int64\n",
      "\n",
      "*** test missing values\n",
      "Age       86\n",
      "Fare       1\n",
      "Cabin    327\n",
      "dtype: int64\n",
      "     PassengerId  Pclass                Name   Sex   Age  SibSp  Parch Ticket  \\\n",
      "152         1044       3  Storey, Mr. Thomas  male  60.5      0      0   3701   \n",
      "\n",
      "     Fare Cabin Embarked  \n",
      "152   NaN   NaN        S  \n"
     ]
    }
   ],
   "source": [
    "'''\n",
    "Q5: which features contain blank, null, or empty values?\n",
    "'''\n",
    "print('*** training missing values')\n",
    "print(train.isna().sum()[lambda x: x != 0])\n",
    "print('\\n*** test missing values')\n",
    "print(test.isna().sum()[lambda x: x != 0])\n",
    "\n",
    "print(test[test.Fare.isna()])"
   ]
  },
  {
   "cell_type": "code",
   "execution_count": 10,
   "id": "subsequent-snowboard",
   "metadata": {},
   "outputs": [
    {
     "data": {
      "text/html": [
       "<div>\n",
       "<style scoped>\n",
       "    .dataframe tbody tr th:only-of-type {\n",
       "        vertical-align: middle;\n",
       "    }\n",
       "\n",
       "    .dataframe tbody tr th {\n",
       "        vertical-align: top;\n",
       "    }\n",
       "\n",
       "    .dataframe thead th {\n",
       "        text-align: right;\n",
       "    }\n",
       "</style>\n",
       "<table border=\"1\" class=\"dataframe\">\n",
       "  <thead>\n",
       "    <tr style=\"text-align: right;\">\n",
       "      <th></th>\n",
       "      <th>Age</th>\n",
       "      <th>SibSp</th>\n",
       "      <th>Parch</th>\n",
       "      <th>Fare</th>\n",
       "    </tr>\n",
       "  </thead>\n",
       "  <tbody>\n",
       "    <tr>\n",
       "      <th>count</th>\n",
       "      <td>714.000000</td>\n",
       "      <td>891.000000</td>\n",
       "      <td>891.000000</td>\n",
       "      <td>891.000000</td>\n",
       "    </tr>\n",
       "    <tr>\n",
       "      <th>mean</th>\n",
       "      <td>29.699118</td>\n",
       "      <td>0.523008</td>\n",
       "      <td>0.381594</td>\n",
       "      <td>32.204208</td>\n",
       "    </tr>\n",
       "    <tr>\n",
       "      <th>std</th>\n",
       "      <td>14.526497</td>\n",
       "      <td>1.102743</td>\n",
       "      <td>0.806057</td>\n",
       "      <td>49.693429</td>\n",
       "    </tr>\n",
       "    <tr>\n",
       "      <th>min</th>\n",
       "      <td>0.420000</td>\n",
       "      <td>0.000000</td>\n",
       "      <td>0.000000</td>\n",
       "      <td>0.000000</td>\n",
       "    </tr>\n",
       "    <tr>\n",
       "      <th>25%</th>\n",
       "      <td>20.125000</td>\n",
       "      <td>0.000000</td>\n",
       "      <td>0.000000</td>\n",
       "      <td>7.910400</td>\n",
       "    </tr>\n",
       "    <tr>\n",
       "      <th>50%</th>\n",
       "      <td>28.000000</td>\n",
       "      <td>0.000000</td>\n",
       "      <td>0.000000</td>\n",
       "      <td>14.454200</td>\n",
       "    </tr>\n",
       "    <tr>\n",
       "      <th>75%</th>\n",
       "      <td>38.000000</td>\n",
       "      <td>1.000000</td>\n",
       "      <td>0.000000</td>\n",
       "      <td>31.000000</td>\n",
       "    </tr>\n",
       "    <tr>\n",
       "      <th>max</th>\n",
       "      <td>80.000000</td>\n",
       "      <td>8.000000</td>\n",
       "      <td>6.000000</td>\n",
       "      <td>512.329200</td>\n",
       "    </tr>\n",
       "  </tbody>\n",
       "</table>\n",
       "</div>"
      ],
      "text/plain": [
       "              Age       SibSp       Parch        Fare\n",
       "count  714.000000  891.000000  891.000000  891.000000\n",
       "mean    29.699118    0.523008    0.381594   32.204208\n",
       "std     14.526497    1.102743    0.806057   49.693429\n",
       "min      0.420000    0.000000    0.000000    0.000000\n",
       "25%     20.125000    0.000000    0.000000    7.910400\n",
       "50%     28.000000    0.000000    0.000000   14.454200\n",
       "75%     38.000000    1.000000    0.000000   31.000000\n",
       "max     80.000000    8.000000    6.000000  512.329200"
      ]
     },
     "execution_count": 10,
     "metadata": {},
     "output_type": "execute_result"
    }
   ],
   "source": [
    "'''\n",
    "Q7: List the summary statistics of numerical features\n",
    "'''\n",
    "train[num_features].describe()"
   ]
  },
  {
   "cell_type": "code",
   "execution_count": 11,
   "id": "clear-mercury",
   "metadata": {},
   "outputs": [
    {
     "name": "stdout",
     "output_type": "stream",
     "text": [
      "          count  nunique                   top_val  top_freq\n",
      "Pclass      891        3                         3       491\n",
      "Name        891      891                                   1\n",
      "Sex         891        2                      male       577\n",
      "Ticket      891      681    CA. 2343, 1601, 347082         7\n",
      "Cabin       204      147  B96 B98, G6, C23 C25 C27         4\n",
      "Embarked    889        3                         S       644\n"
     ]
    }
   ],
   "source": [
    "'''\n",
    "Q8 Compute the most frequent categorical values\n",
    "'''\n",
    "count = train[cat_features].count()\n",
    "nunique = train[cat_features].nunique()\n",
    "top_freq = pd.Series(dict([(feat, train[feat].value_counts().values[0]) for feat in cat_features]))\n",
    "\n",
    "def top_values(feat):\n",
    "    vc = train[feat].value_counts()\n",
    "    count = vc.values[0]\n",
    "    values = ''\n",
    "    if count > 1:\n",
    "        values = ', '.join([str(x) for x in vc[vc == count].keys()])\n",
    "    \n",
    "    return values\n",
    "    \n",
    "top_val = pd.Series(dict([(feat, top_values(feat)) for feat in cat_features]))\n",
    "    \n",
    "print(pd.DataFrame({'count': count, 'nunique': nunique, 'top_val': top_val, 'top_freq': top_freq}))\n"
   ]
  },
  {
   "cell_type": "code",
   "execution_count": 12,
   "id": "encouraging-indication",
   "metadata": {},
   "outputs": [
    {
     "name": "stdout",
     "output_type": "stream",
     "text": [
      "63.0% survived\n"
     ]
    }
   ],
   "source": [
    "'''\n",
    "Q9 Did more than 50% of passengers with Pclass == 1 survive?\n",
    "'''\n",
    "pclass = train[train.Pclass == 1]\n",
    "surv_by_pclass = pclass['Survived'].value_counts()\n",
    "SURVIVED = 1\n",
    "print('%3.1f%% survived' % (100 * (surv_by_pclass[SURVIVED] / pclass.shape[0])))\n"
   ]
  },
  {
   "cell_type": "code",
   "execution_count": 13,
   "id": "rotary-estonia",
   "metadata": {},
   "outputs": [
    {
     "name": "stdout",
     "output_type": "stream",
     "text": [
      "74.2% survived\n"
     ]
    }
   ],
   "source": [
    "'''\n",
    "Q10 did more women survive?\n",
    "'''\n",
    "female = train[train.Sex == 'female']\n",
    "surv_by_female = female['Survived'].value_counts()\n",
    "print('%3.1f%% survived' % (100 * (surv_by_female[SURVIVED] / female.shape[0])))\n"
   ]
  },
  {
   "cell_type": "code",
   "execution_count": 14,
   "id": "studied-projector",
   "metadata": {},
   "outputs": [
    {
     "data": {
      "image/png": "[encoded data removed]",
      "text/plain": [
       "<Figure size 720x720 with 2 Axes>"
      ]
     },
     "metadata": {
      "needs_background": "light"
     },
     "output_type": "display_data"
    }
   ],
   "source": [
    "'''\n",
    "Q11 Plot age by survived\n",
    "'''\n",
    "fig, axes = plt.subplots(nrows=1, ncols=2, sharex=True, sharey=True)\n",
    "train.hist(column='Age', by=['Survived'], bins=25, ax=axes)\n",
    "\n",
    "axes[0].title.set_text('Survived 0')\n",
    "axes[0].set_xlabel('Age')\n",
    "axes[1].title.set_text('Survived 1')\n",
    "axes[1].set_xlabel('Age')\n",
    "\n",
    "plt.savefig(root + 'q11.png')\n",
    "\n"
   ]
  },
  {
   "cell_type": "code",
   "execution_count": 30,
   "id": "competent-lambda",
   "metadata": {},
   "outputs": [
    {
     "name": "stdout",
     "output_type": "stream",
     "text": [
      "Class 3 infants not survived 12\n",
      "Class 3 infants survived 13\n"
     ]
    },
    {
     "data": {
      "image/png": "[encoded data removed]",
      "text/plain": [
       "<Figure size 720x720 with 6 Axes>"
      ]
     },
     "metadata": {
      "needs_background": "light"
     },
     "output_type": "display_data"
    }
   ],
   "source": [
    "'''\n",
    "Q12 Plot age by pclass and survived\n",
    "'''\n",
    "fig, axes = plt.subplots(nrows=3, ncols=2, sharex=True, sharey=True)\n",
    "\n",
    "train.hist(column='Age', by=['Pclass', 'Survived'], ax=axes, bins=25)\n",
    "\n",
    "for cl in range(0, 3):\n",
    "    for su in range(0, 2):\n",
    "        axes[cl][su].title.set_text('Pclass=%d | Survived=%d' % (cl+1, su))\n",
    "axes[2][0].set_xlabel(\"Age\")\n",
    "axes[2][1].set_xlabel(\"Age\")\n",
    "\n",
    "plt.savefig(root + 'q12.png')\n",
    "\n",
    "print('Class 3 infants not survived',train.loc[(train.Pclass==3) & (train.Age <= 4) & (train.Survived == 0)].Survived.count())\n",
    "print('Class 3 infants survived',train.loc[(train.Pclass==3) & (train.Age <= 4) & (train.Survived == 1)].Survived.count())"
   ]
  },
  {
   "cell_type": "code",
   "execution_count": 31,
   "id": "focal-exclusion",
   "metadata": {
    "scrolled": true
   },
   "outputs": [
    {
     "data": {
      "image/png": "[encoded data removed]",
      "text/plain": [
       "<Figure size 720x720 with 6 Axes>"
      ]
     },
     "metadata": {
      "needs_background": "light"
     },
     "output_type": "display_data"
    }
   ],
   "source": [
    "'''\n",
    "Q13 Plot mean fare by Embarked and gender\n",
    "'''\n",
    "embs = ['S', 'C', 'Q']\n",
    "gens = ['female', 'male']\n",
    "\n",
    "embarks = [train[train.Embarked == e] for e in embs]\n",
    "\n",
    "surv = [x[x.Survived == 0] for x in embarks] + [x[x.Survived == 1] for x in embarks]\n",
    "\n",
    "def makedf(df):\n",
    "    return pd.DataFrame([[gen, df[df.Sex == gen].Fare.mean()] for gen in gens])\n",
    "\n",
    "surv = [makedf(x) for x in surv]\n",
    "\n",
    "fig, axes = plt.subplots(nrows=3, ncols=2, sharex=True, sharey=True)\n",
    "\n",
    "for y in range(0, 3):\n",
    "    for x in range(0, 2):\n",
    "        axis = axes[y, x]\n",
    "        surv[y + 3 * x].plot.bar(ax = axis, legend = False)\n",
    "        axis.set_title('Embarked = %s | Survived = %d' % (embs[y], x))\n",
    "        axis.set_xticks(range(0, 2))\n",
    "        axis.set_xticklabels(gens, rotation=0)\n",
    "        axis.set_ylabel('Fare')\n",
    "\n",
    "plt.savefig(root + 'q13.png')\n",
    "\n"
   ]
  },
  {
   "cell_type": "code",
   "execution_count": 12,
   "id": "worldwide-triumph",
   "metadata": {},
   "outputs": [
    {
     "name": "stdout",
     "output_type": "stream",
     "text": [
      "681\n",
      "134\n",
      "19.7% duplication\n"
     ]
    }
   ],
   "source": [
    "'''\n",
    "Q14 What is the rate of duplication of the Ticket feature? Is there correlation between it and survival?\n",
    "'''\n",
    "vc = train.Ticket.value_counts()\n",
    "print(vc.count())\n",
    "dvc = vc[vc > 1]\n",
    "print(dvc.count())\n",
    "dupp = dvc.count() / vc.count()\n",
    "print('%3.1f%% duplication' % (100*dupp))\n"
   ]
  },
  {
   "cell_type": "code",
   "execution_count": 33,
   "id": "curious-nomination",
   "metadata": {},
   "outputs": [
    {
     "name": "stdout",
     "output_type": "stream",
     "text": [
      "1014 missing values in cabin (77.5%)\n"
     ]
    }
   ],
   "source": [
    "'''\n",
    "Q15 Is the Cabin feature complete?\n",
    "'''\n",
    "cabmiss = combined['Cabin'].isna().sum()\n",
    "print('%d missing values in cabin (%3.1f%%)' % (cabmiss, 100 * (cabmiss / combined.shape[0] )))\n"
   ]
  },
  {
   "cell_type": "code",
   "execution_count": 34,
   "id": "light-listing",
   "metadata": {},
   "outputs": [
    {
     "data": {
      "text/html": [
       "<div>\n",
       "<style scoped>\n",
       "    .dataframe tbody tr th:only-of-type {\n",
       "        vertical-align: middle;\n",
       "    }\n",
       "\n",
       "    .dataframe tbody tr th {\n",
       "        vertical-align: top;\n",
       "    }\n",
       "\n",
       "    .dataframe thead th {\n",
       "        text-align: right;\n",
       "    }\n",
       "</style>\n",
       "<table border=\"1\" class=\"dataframe\">\n",
       "  <thead>\n",
       "    <tr style=\"text-align: right;\">\n",
       "      <th></th>\n",
       "      <th>PassengerId</th>\n",
       "      <th>Sex</th>\n",
       "      <th>Gender</th>\n",
       "    </tr>\n",
       "  </thead>\n",
       "  <tbody>\n",
       "    <tr>\n",
       "      <th>0</th>\n",
       "      <td>1</td>\n",
       "      <td>male</td>\n",
       "      <td>0</td>\n",
       "    </tr>\n",
       "    <tr>\n",
       "      <th>1</th>\n",
       "      <td>2</td>\n",
       "      <td>female</td>\n",
       "      <td>1</td>\n",
       "    </tr>\n",
       "    <tr>\n",
       "      <th>2</th>\n",
       "      <td>3</td>\n",
       "      <td>female</td>\n",
       "      <td>1</td>\n",
       "    </tr>\n",
       "    <tr>\n",
       "      <th>3</th>\n",
       "      <td>4</td>\n",
       "      <td>female</td>\n",
       "      <td>1</td>\n",
       "    </tr>\n",
       "    <tr>\n",
       "      <th>4</th>\n",
       "      <td>5</td>\n",
       "      <td>male</td>\n",
       "      <td>0</td>\n",
       "    </tr>\n",
       "  </tbody>\n",
       "</table>\n",
       "</div>"
      ],
      "text/plain": [
       "   PassengerId     Sex  Gender\n",
       "0            1    male       0\n",
       "1            2  female       1\n",
       "2            3  female       1\n",
       "3            4  female       1\n",
       "4            5    male       0"
      ]
     },
     "execution_count": 34,
     "metadata": {},
     "output_type": "execute_result"
    }
   ],
   "source": [
    "'''\n",
    "Q16 recode Sex as Gender where 0 is male and 1 is female\n",
    "'''\n",
    "train['Gender'] = (train['Sex'] == 'female').transform(lambda x: 1 if x else 0)\n",
    "\n",
    "train[['PassengerId', 'Sex', 'Gender']].head()\n"
   ]
  },
  {
   "cell_type": "code",
   "execution_count": 35,
   "id": "postal-florist",
   "metadata": {},
   "outputs": [
    {
     "name": "stdout",
     "output_type": "stream",
     "text": [
      "*** First 5 missing age values\n",
      "    PassengerId  Age\n",
      "5             6  NaN\n",
      "17           18  NaN\n",
      "19           20  NaN\n",
      "26           27  NaN\n",
      "28           29  NaN\n",
      "\n",
      "Age mean is 29.70, stddev is 14.53\n",
      "\n",
      "*** After filling in with Gaussian\n",
      "    PassengerId        Age\n",
      "5             6  33.079648\n",
      "17           18  24.092855\n",
      "19           20  15.669622\n",
      "26           27  26.365241\n",
      "28           29  27.475069\n"
     ]
    }
   ],
   "source": [
    "'''\n",
    "Q17 Predict missing Age values\n",
    "'''\n",
    "age_mean = train.Age.mean()\n",
    "age_std = train.Age.std()\n",
    "def age_rand():\n",
    "    return np.random.normal(age_mean, age_std)\n",
    "\n",
    "age_missing = train.Age.isna()\n",
    "print('*** First 5 missing age values')\n",
    "print(train[age_missing][['PassengerId', 'Age']].head())\n",
    "\n",
    "print('\\nAge mean is %4.2f, stddev is %4.2f' % (age_mean, age_std))\n",
    "\n",
    "train.Age = train.Age.transform(lambda x: age_rand() if pd.isna(x) else x)\n",
    "\n",
    "print('\\n*** After filling in with Gaussian')\n",
    "print(train[age_missing][['PassengerId', 'Age']].head())\n"
   ]
  },
  {
   "cell_type": "code",
   "execution_count": 37,
   "id": "german-repository",
   "metadata": {},
   "outputs": [
    {
     "name": "stdout",
     "output_type": "stream",
     "text": [
      "Rows with missing Embarked\n",
      "61     True\n",
      "829    True\n",
      "Name: Embarked, dtype: bool\n",
      "\n",
      "After filling:\n",
      "61     S\n",
      "829    S\n",
      "Name: Embarked, dtype: object\n"
     ]
    }
   ],
   "source": [
    "'''\n",
    "Q18 Replace embarkation with most common value\n",
    "'''\n",
    "most_common_emb = train['Embarked'].value_counts().index[0]\n",
    "embmissing = pd.isna(train.Embarked)\n",
    "print('Rows with missing Embarked')\n",
    "print(embmissing[embmissing])\n",
    "train['Embarked'] = train['Embarked'].transform(lambda x: most_common_emb if pd.isna(x) else x)\n",
    "print('\\nAfter filling:')\n",
    "print(train.Embarked[embmissing])\n"
   ]
  },
  {
   "cell_type": "code",
   "execution_count": 13,
   "id": "unnecessary-colony",
   "metadata": {},
   "outputs": [
    {
     "name": "stdout",
     "output_type": "stream",
     "text": [
      "Rows with missing Fare\n",
      "152    True\n",
      "Name: Fare, dtype: bool\n",
      "\n",
      "After filling:\n",
      "152    7.75\n",
      "Name: Fare, dtype: float64\n"
     ]
    }
   ],
   "source": [
    "'''\n",
    "Q19 Replace fare missing value in test with mode of fare\n",
    "'''\n",
    "faremissing = pd.isna(test.Fare)\n",
    "print('Rows with missing Fare')\n",
    "print(faremissing[faremissing])\n",
    "fare_mode = test['Fare'].mode().values[0]\n",
    "test['Fare'] = test['Fare'].transform(lambda x: fare_mode if pd.isna(x) else x)\n",
    "print('\\nAfter filling:')\n",
    "print(test.Fare[faremissing])"
   ]
  },
  {
   "cell_type": "code",
   "execution_count": 14,
   "id": "coordinate-helmet",
   "metadata": {},
   "outputs": [
    {
     "data": {
      "text/html": [
       "<div>\n",
       "<style scoped>\n",
       "    .dataframe tbody tr th:only-of-type {\n",
       "        vertical-align: middle;\n",
       "    }\n",
       "\n",
       "    .dataframe tbody tr th {\n",
       "        vertical-align: top;\n",
       "    }\n",
       "\n",
       "    .dataframe thead th {\n",
       "        text-align: right;\n",
       "    }\n",
       "</style>\n",
       "<table border=\"1\" class=\"dataframe\">\n",
       "  <thead>\n",
       "    <tr style=\"text-align: right;\">\n",
       "      <th></th>\n",
       "      <th>Fare</th>\n",
       "      <th>FareBand</th>\n",
       "    </tr>\n",
       "  </thead>\n",
       "  <tbody>\n",
       "    <tr>\n",
       "      <th>0</th>\n",
       "      <td>7.2500</td>\n",
       "      <td>0</td>\n",
       "    </tr>\n",
       "    <tr>\n",
       "      <th>1</th>\n",
       "      <td>71.2833</td>\n",
       "      <td>3</td>\n",
       "    </tr>\n",
       "    <tr>\n",
       "      <th>2</th>\n",
       "      <td>7.9250</td>\n",
       "      <td>1</td>\n",
       "    </tr>\n",
       "    <tr>\n",
       "      <th>3</th>\n",
       "      <td>53.1000</td>\n",
       "      <td>3</td>\n",
       "    </tr>\n",
       "    <tr>\n",
       "      <th>4</th>\n",
       "      <td>8.0500</td>\n",
       "      <td>1</td>\n",
       "    </tr>\n",
       "    <tr>\n",
       "      <th>5</th>\n",
       "      <td>8.4583</td>\n",
       "      <td>1</td>\n",
       "    </tr>\n",
       "    <tr>\n",
       "      <th>6</th>\n",
       "      <td>51.8625</td>\n",
       "      <td>3</td>\n",
       "    </tr>\n",
       "    <tr>\n",
       "      <th>7</th>\n",
       "      <td>21.0750</td>\n",
       "      <td>2</td>\n",
       "    </tr>\n",
       "    <tr>\n",
       "      <th>8</th>\n",
       "      <td>11.1333</td>\n",
       "      <td>1</td>\n",
       "    </tr>\n",
       "    <tr>\n",
       "      <th>9</th>\n",
       "      <td>30.0708</td>\n",
       "      <td>2</td>\n",
       "    </tr>\n",
       "  </tbody>\n",
       "</table>\n",
       "</div>"
      ],
      "text/plain": [
       "      Fare  FareBand\n",
       "0   7.2500         0\n",
       "1  71.2833         3\n",
       "2   7.9250         1\n",
       "3  53.1000         3\n",
       "4   8.0500         1\n",
       "5   8.4583         1\n",
       "6  51.8625         3\n",
       "7  21.0750         2\n",
       "8  11.1333         1\n",
       "9  30.0708         2"
      ]
     },
     "execution_count": 14,
     "metadata": {},
     "output_type": "execute_result"
    }
   ],
   "source": [
    "'''\n",
    "Q20 Turn fare into an ordinal based on bands\n",
    "'''\n",
    "# NB we can get away with not testing the very bottom and top as the bands cover\n",
    "# all samples\n",
    "def fare_ord(x):\n",
    "    if x <= 7.91:\n",
    "        return 0\n",
    "    elif x <= 14.454:\n",
    "        return 1\n",
    "    elif x <= 31.0:\n",
    "        return 2\n",
    "    else:\n",
    "        return 3\n",
    "    \n",
    "train['FareBand'] = train['Fare'].transform(fare_ord)\n",
    "train[['Fare', 'FareBand']].head(10)"
   ]
  }
 ],
 "metadata": {
  "kernelspec": {
   "display_name": "Python 3",
   "language": "python",
   "name": "python3"
  },
  "language_info": {
   "codemirror_mode": {
    "name": "ipython",
    "version": 3
   },
   "file_extension": ".py",
   "mimetype": "text/x-python",
   "name": "python",
   "nbconvert_exporter": "python",
   "pygments_lexer": "ipython3",
   "version": "3.6.9"
  }
 },
 "nbformat": 4,
 "nbformat_minor": 5
}
