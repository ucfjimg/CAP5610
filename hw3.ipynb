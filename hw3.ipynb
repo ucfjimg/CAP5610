{
 "cells": [
  {
   "cell_type": "code",
   "execution_count": 40,
   "id": "several-operations",
   "metadata": {},
   "outputs": [],
   "source": [
    "import pandas as pd\n",
    "import numpy as np\n",
    "import matplotlib.pyplot as plt\n",
    "from sklearn.model_selection import cross_val_score\n",
    "from sklearn.svm import SVC\n",
    "from sklearn import preprocessing\n",
    "\n",
    "plt.rcParams[\"figure.figsize\"] = (10, 10)\n",
    "\n",
    "# NOTE still using training set from HW1\n",
    "root = '/home/jimge/public/CAP5610/hw1/'\n",
    "\n",
    "train = pd.read_csv(root + 'train.csv')"
   ]
  },
  {
   "cell_type": "markdown",
   "id": "adolescent-resolution",
   "metadata": {},
   "source": [
    "We decided from assignment 1 to include the following features:\n",
    "* Pclass\n",
    "* Gender\n",
    "* Age \n",
    "* Fare\n",
    "\n",
    "Pclass is already coded well.\n",
    "\n",
    "Gender we will record as 0 and 1.\n",
    "\n",
    "Age and fare we will leave as continuous."
   ]
  },
  {
   "cell_type": "code",
   "execution_count": 55,
   "id": "accompanied-rover",
   "metadata": {},
   "outputs": [],
   "source": [
    "'''\n",
    "Recode gender\n",
    "'''\n",
    "train['Gender'] = (train['Sex'] == 'female').transform(lambda x: 1 if x else 0)\n",
    "\n",
    "'''\n",
    "Fix missing data in age\n",
    "'''\n",
    "age_mean = train.Age.mean()\n",
    "age_std = train.Age.std()\n",
    "def age_rand():\n",
    "    return np.random.normal(age_mean, age_std)\n",
    "\n",
    "age_missing = train.Age.isna()\n",
    "train.Age = train.Age.transform(lambda x: age_rand() if pd.isna(x) else x)\n",
    "\n",
    "'''\n",
    "Normalize the fields we care about\n",
    "Note that gender is 0..1 by default\n",
    "'''\n",
    "def norm(series):\n",
    "    return (series-series.min()) / (series.max() - series.min())\n",
    "\n",
    "scaler = preprocessing.MinMaxScaler()\n",
    "train['AgeNorm'] = norm(train.Age)\n",
    "train['FareNorm'] = norm(train.Fare)\n",
    "train['PclassNorm'] = norm(train.Pclass)\n",
    "\n",
    "X = train[['Age', 'Fare', 'Gender', 'Pclass']]\n",
    "y = train['Survived']"
   ]
  },
  {
   "cell_type": "code",
   "execution_count": 53,
   "id": "disciplinary-burning",
   "metadata": {},
   "outputs": [
    {
     "name": "stdout",
     "output_type": "stream",
     "text": [
      "linear     [0.80446927 0.80337079 0.78651685 0.75280899 0.78651685] 0.7867365513778168\n",
      "RBF        [0.58100559 0.71348315 0.66853933 0.67977528 0.69101124] 0.6667629150712446\n",
      "quadratic  [0.59776536 0.70786517 0.65730337 0.66853933 0.69101124] 0.6644968928504174\n"
     ]
    }
   ],
   "source": [
    "'''\n",
    "Results - run 5-fold test on Titanic data using SVM\n",
    "'''\n",
    "clf = SVC(kernel='linear')\n",
    "scores = cross_val_score(clf, X, y, cv=5)\n",
    "print('linear    ', scores, scores.mean())\n",
    "\n",
    "clf = SVC(kernel='rbf')\n",
    "scores = cross_val_score(clf, X, y, cv=5)\n",
    "print('RBF       ', scores, scores.mean())\n",
    "\n",
    "clf = SVC(kernel='poly', degree=2)\n",
    "scores = cross_val_score(clf, X, y, cv=5)\n",
    "print('quadratic ', scores, scores.mean())\n"
   ]
  },
  {
   "cell_type": "code",
   "execution_count": 57,
   "id": "activated-fairy",
   "metadata": {},
   "outputs": [
    {
     "name": "stdout",
     "output_type": "stream",
     "text": [
      "linear     [0.80446927 0.80337079 0.78651685 0.75280899 0.78651685] 0.7867365513778168\n",
      "RBF        [0.74860335 0.79213483 0.78651685 0.75280899 0.78651685] 0.773316176009039\n",
      "quadratic  [0.74860335 0.80337079 0.78651685 0.75280899 0.78651685] 0.775563367020275\n"
     ]
    }
   ],
   "source": [
    "'''\n",
    "Results - run 5-fold test on Titanic data using SVM (using normalized data)\n",
    "'''\n",
    "X = train[['AgeNorm', 'FareNorm', 'Gender', 'PclassNorm']]\n",
    "y = train['Survived']\n",
    "\n",
    "clf = SVC(kernel='linear')\n",
    "scores = cross_val_score(clf, X, y, cv=5)\n",
    "print('linear    ', scores, scores.mean())\n",
    "\n",
    "clf = SVC(kernel='rbf')\n",
    "scores = cross_val_score(clf, X, y, cv=5)\n",
    "print('RBF       ', scores, scores.mean())\n",
    "\n",
    "clf = SVC(kernel='poly', degree=2)\n",
    "scores = cross_val_score(clf, X, y, cv=5)\n",
    "print('quadratic ', scores, scores.mean())\n"
   ]
  }
 ],
 "metadata": {
  "kernelspec": {
   "display_name": "Python 3",
   "language": "python",
   "name": "python3"
  },
  "language_info": {
   "codemirror_mode": {
    "name": "ipython",
    "version": 3
   },
   "file_extension": ".py",
   "mimetype": "text/x-python",
   "name": "python",
   "nbconvert_exporter": "python",
   "pygments_lexer": "ipython3",
   "version": "3.6.9"
  }
 },
 "nbformat": 4,
 "nbformat_minor": 5
}
