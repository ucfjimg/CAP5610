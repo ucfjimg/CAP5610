{
 "cells": [
  {
   "cell_type": "code",
   "execution_count": 40,
   "id": "several-operations",
   "metadata": {},
   "outputs": [],
   "source": [
    "import pandas as pd\n",
    "import numpy as np\n",
    "import matplotlib.pyplot as plt\n",
    "from sklearn.model_selection import cross_val_score\n",
    "from sklearn.svm import SVC\n",
    "from sklearn import preprocessing\n",
    "\n",
    "plt.rcParams[\"figure.figsize\"] = (10, 10)\n",
    "\n",
    "# NOTE still using training set from HW1\n",
    "root = '/home/jimge/public/CAP5610/hw1/'\n",
    "\n",
    "train = pd.read_csv(root + 'train.csv')"
   ]
  },
  {
   "cell_type": "markdown",
   "id": "adolescent-resolution",
   "metadata": {},
   "source": [
    "We decided from assignment 1 to include the following features:\n",
    "* Pclass\n",
    "* Gender\n",
    "* Age \n",
    "* Fare\n",
    "\n",
    "Pclass is already coded well.\n",
    "\n",
    "Gender we will record as 0 and 1.\n",
    "\n",
    "Age and fare we will leave as continuous."
   ]
  },
  {
   "cell_type": "code",
   "execution_count": 41,
   "id": "accompanied-rover",
   "metadata": {},
   "outputs": [],
   "source": [
    "'''\n",
    "Recode gender\n",
    "'''\n",
    "train['Gender'] = (train['Sex'] == 'female').transform(lambda x: 1 if x else 0)\n",
    "\n",
    "'''\n",
    "Fix missing data in age\n",
    "'''\n",
    "age_mean = train.Age.mean()\n",
    "age_std = train.Age.std()\n",
    "def age_rand():\n",
    "    return np.random.normal(age_mean, age_std)\n",
    "\n",
    "age_missing = train.Age.isna()\n",
    "train.Age = train.Age.transform(lambda x: age_rand() if pd.isna(x) else x)\n",
    "\n",
    "'''\n",
    "Normalize the fields we care about\n",
    "Note that gender is 0..1 by default\n",
    "'''\n",
    "def norm(series):\n",
    "    return (series-series.min()) / (series.max() - series.min())\n",
    "\n",
    "scaler = preprocessing.MinMaxScaler()\n",
    "train['AgeReg'] = norm(train.Age)\n",
    "train['FareReg'] = norm(train.Fare)\n",
    "train['PclassReg'] = norm(train.Pclass)\n",
    "\n",
    "X = train[['AgeReg', 'FareReg', 'Gender', 'PclassReg']]\n",
    "y = train['Survived']\n"
   ]
  },
  {
   "cell_type": "code",
   "execution_count": 42,
   "id": "disciplinary-burning",
   "metadata": {},
   "outputs": [
    {
     "name": "stdout",
     "output_type": "stream",
     "text": [
      "[0.80446927 0.80337079 0.78651685 0.75280899 0.78651685]\n",
      "0.7867365513778168\n"
     ]
    }
   ],
   "source": [
    "'''\n",
    "Results - run 5-fold test on Titanic data using SVM\n",
    "'''\n",
    "clf = SVC(kernel='linear')\n",
    "scores = cross_val_score(clf, X, y, cv=5)\n",
    "print(scores)\n",
    "print(scores.mean())"
   ]
  }
 ],
 "metadata": {
  "kernelspec": {
   "display_name": "Python 3",
   "language": "python",
   "name": "python3"
  },
  "language_info": {
   "codemirror_mode": {
    "name": "ipython",
    "version": 3
   },
   "file_extension": ".py",
   "mimetype": "text/x-python",
   "name": "python",
   "nbconvert_exporter": "python",
   "pygments_lexer": "ipython3",
   "version": "3.6.9"
  }
 },
 "nbformat": 4,
 "nbformat_minor": 5
}
