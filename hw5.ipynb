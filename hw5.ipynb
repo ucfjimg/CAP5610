{
 "cells": [
  {
   "cell_type": "code",
   "execution_count": 101,
   "id": "isolated-phoenix",
   "metadata": {},
   "outputs": [],
   "source": [
    "from surprise import Dataset, SVD, KNNBasic\n",
    "from surprise.model_selection import KFold, cross_validate\n",
    "from surprise.reader import Reader\n",
    "from time import time\n",
    "import matplotlib.pyplot as plt\n",
    "\n",
    "import pandas as pd\n",
    "import numpy as np\n",
    "\n",
    "import operator"
   ]
  },
  {
   "cell_type": "code",
   "execution_count": 65,
   "id": "rapid-crack",
   "metadata": {},
   "outputs": [],
   "source": [
    "def means(out):\n",
    "    '''\n",
    "    `out` is an output from a Surprise algorithm. Returns the mean\n",
    "    MAE and RMSE\n",
    "    '''\n",
    "    return {'mae': np.mean([out['test_mae']]), 'rmse': np.mean(out['test_rmse'])}"
   ]
  },
  {
   "cell_type": "code",
   "execution_count": 130,
   "id": "medieval-harvey",
   "metadata": {},
   "outputs": [],
   "source": [
    "'''\n",
    "Task 3 part a - load the data\n",
    "'''\n",
    "\n",
    "data = '/home/jimge/public/CAP5610/hw5/ratings_small.csv'\n",
    "df = pd.read_csv(data)\n",
    "#\n",
    "# load_from_df wants three columns: user id, item is, rating\n",
    "#\n",
    "data = Dataset.load_from_df(df[['userId', 'movieId', 'rating']], Reader())"
   ]
  },
  {
   "cell_type": "code",
   "execution_count": 149,
   "id": "close-powell",
   "metadata": {},
   "outputs": [
    {
     "name": "stdout",
     "output_type": "stream",
     "text": [
      "PMF took  22.552604913711548\n",
      "UCF took 9.465842485427856\n",
      "ICF took 43.61047101020813\n"
     ]
    }
   ],
   "source": [
    "'''\n",
    "Task 3 part c - compute RMSE/MAE for PMF, user-based CF, item-base CF\n",
    "'''\n",
    "kf = KFold(random_state=0)\n",
    "#\n",
    "# NB per the Surprise docs, SVD with biased == False is PMF\n",
    "#\n",
    "t = time()\n",
    "pmf = cross_validate(SVD(biased = False), data, ['rmse', 'mae'], kf)\n",
    "print('PMF took ',time() - t)\n",
    "t = time()\n",
    "ucf = cross_validate(KNNBasic(sim_options={'user_based': True}, verbose=False), data, ['rmse', 'mae'], kf)\n",
    "print('UCF took', time() - t)\n",
    "t = time()\n",
    "icf = cross_validate(KNNBasic(sim_options={'user_based': False}, verbose=False), data, ['rmse', 'mae'], kf)\n",
    "print('ICF took', time() - t)"
   ]
  },
  {
   "cell_type": "code",
   "execution_count": 155,
   "id": "shared-museum",
   "metadata": {},
   "outputs": [
    {
     "name": "stdout",
     "output_type": "stream",
     "text": [
      "PMF &  1.012 &  1.014 &  1.014 &  1.005 &  1.007 &  0.782 &  0.784 &  0.781 &  0.777 &  0.777\n",
      "UCF &  0.968 &  0.973 &  0.973 &  0.971 &  0.958 &  0.743 &  0.746 &  0.748 &  0.747 &  0.737\n",
      "ICF &  0.932 &  0.937 &  0.937 &  0.939 &  0.928 &  0.718 &  0.722 &  0.723 &  0.725 &  0.715\n"
     ]
    }
   ],
   "source": [
    "'''\n",
    "Task 3 part c - format trials for LaTex table\n",
    "'''\n",
    "def fstr(f):\n",
    "    return '%6.3f' % f\n",
    "for (name, results) in zip(['PMF', 'UCF', 'ICF'], [pmf, ucf, icf]):\n",
    "    print(name, '&', ' & '.join(map(fstr, results['test_rmse'])), '&', ' & '.join(map(fstr, results['test_mae'])))\n",
    "    \n",
    "    "
   ]
  },
  {
   "cell_type": "code",
   "execution_count": 133,
   "id": "duplicate-thinking",
   "metadata": {},
   "outputs": [
    {
     "name": "stdout",
     "output_type": "stream",
     "text": [
      "Algorithm      RMSE    MAE\n",
      "PMF           1.007  0.778\n",
      "UCF           0.968  0.744\n",
      "ICF           0.935  0.721\n"
     ]
    }
   ],
   "source": [
    "'''\n",
    "Task 3 part d - compute average RMSE/MAE for PMF, user-based CF, item-base CF\n",
    "'''\n",
    "header = ('Algorithm', 'RMSE', 'MAE')\n",
    "pmf_err = ('PMF', np.mean(pmf['test_rmse']), np.mean(pmf['test_mae']))\n",
    "ucf_err = ('UCF', np.mean(ucf['test_rmse']), np.mean(ucf['test_mae']))\n",
    "icf_err = ('ICF', np.mean(icf['test_rmse']), np.mean(icf['test_mae']))\n",
    "\n",
    "hdr  = '%-12s %6s %6s' % header\n",
    "rows = map(lambda row: '%-12s %6.3f %6.3f' % row, [pmf_err, ucf_err, icf_err] )\n",
    "\n",
    "print('\\n'.join([hdr]+list(rows)))"
   ]
  },
  {
   "cell_type": "code",
   "execution_count": 135,
   "id": "inner-companion",
   "metadata": {},
   "outputs": [
    {
     "name": "stdout",
     "output_type": "stream",
     "text": [
      "UCF-cosine took 20.178842306137085\n",
      "ICF-cosine took 81.96030378341675\n",
      "UCF-msd took 12.963815689086914\n",
      "ICF-msd took 47.62882614135742\n",
      "UCF-pearson took 14.150273323059082\n",
      "ICF-pearson took 101.6791045665741\n"
     ]
    }
   ],
   "source": [
    "'''\n",
    "Task 3 part e - compute error for cosine, MSD, and Pearson similarities\n",
    "on UCF and ICF\n",
    "'''\n",
    "metrics = ['cosine', 'msd', 'pearson']\n",
    "out_sim = []\n",
    "for m in metrics:\n",
    "    t = time()\n",
    "    o = cross_validate(KNNBasic(sim_options={'name': m, 'user_based': True}, verbose=False), data, ['rmse', 'mae'], kf)\n",
    "    out_sim.append((m, 'UCF', o))\n",
    "    print('UCF-%s took' % m, time() - t)\n",
    "    t = time()\n",
    "    o = cross_validate(KNNBasic(sim_options={'name': m, 'user_based': False}, verbose=False), data, ['rmse', 'mae'], kf)\n",
    "    out_sim.append((m, 'ICF', o))\n",
    "    print('ICF-%s took' % m, time() - t)\n",
    "    "
   ]
  },
  {
   "cell_type": "code",
   "execution_count": 258,
   "id": "constant-louis",
   "metadata": {},
   "outputs": [
    {
     "name": "stdout",
     "output_type": "stream",
     "text": [
      "Metric   Alg   RMSE    MAE\n",
      "pearson  UCF  0.998  0.773\n",
      "cosine   UCF  0.994  0.768\n",
      "msd      UCF  0.968  0.744\n",
      "cosine   ICF  0.994  0.774\n",
      "pearson  ICF  0.989  0.768\n",
      "msd      ICF  0.935  0.721\n"
     ]
    },
    {
     "data": {
      "image/png": "[encoded data removed]",
      "text/plain": [
       "<Figure size 432x288 with 1 Axes>"
      ]
     },
     "metadata": {
      "needs_background": "light"
     },
     "output_type": "display_data"
    },
    {
     "data": {
      "image/png": "[encoded data removed]",
      "text/plain": [
       "<Figure size 432x288 with 1 Axes>"
      ]
     },
     "metadata": {
      "needs_background": "light"
     },
     "output_type": "display_data"
    }
   ],
   "source": [
    "'''\n",
    "Task 3 part e - evaluate cosine, MSD, and Pearson similarities\n",
    "on UCF and ICF\n",
    "'''\n",
    "rows = list(map(lambda row: (row[0], row[1], means(row[2])), out_sim))\n",
    "\n",
    "ucf = list(filter(lambda row: row[1] == 'UCF', rows))\n",
    "icf = list(filter(lambda row: row[1] == 'ICF', rows))\n",
    "          \n",
    "ucf.sort(key = lambda x: x[2]['rmse'], reverse=True)\n",
    "icf.sort(key = lambda x: x[2]['rmse'], reverse=True)\n",
    "\n",
    "rows = ucf + icf\n",
    "\n",
    "strrows = list(map(lambda x: '%-8s %3s %6.3f %6.3f' % (x[0], x[1], x[2]['rmse'], x[2]['mae']), rows))\n",
    "hdr = ['%-8s %3s %6s %6s' % ('Metric', 'Alg', 'RMSE', 'MAE')]\n",
    "print('\\n'.join(hdr + strrows))\n",
    "\n",
    "def stat(alg, sim, metric):\n",
    "    return [x for x in rows if x[0] == sim and x[1] == alg][0][2][metric]\n",
    "\n",
    "sims = [('pearson', 'Pearson'), ('cosine', 'Cosine'), ('msd', 'MSD')]\n",
    "algs = ['UCF', 'ICF']\n",
    "errs = ['rmse', 'mae']\n",
    "\n",
    "for err in errs:\n",
    "    # errdata[alg][sim]\n",
    "    errdata = list(map(lambda s: list(map(lambda a: stat(a, s[0], err), algs)), sims))\n",
    "    x = np.arange(len(algs))\n",
    "    fig, ax = plt.subplots()\n",
    "    rects = []\n",
    "    width = 0.25\n",
    "    for n, d in enumerate(errdata):\n",
    "        rects.append(ax.bar(x - (width * (n-1)), d, width, label=sims[n][1]))\n",
    "    ax.set_ylabel(err.upper())\n",
    "    ax.set_xticks(x)\n",
    "    ax.set_xticklabels(algs)\n",
    "    ax.legend(loc='lower right')\n",
    "\n",
    "    for (i, r) in enumerate(rects):\n",
    "        for (j, p) in enumerate(r.patches):\n",
    "            px = p.get_x()\n",
    "            pw = p.get_width()\n",
    "            h = errdata[i][j]\n",
    "            ax.text(px + pw / 2, h, '%6.3f' % h, ha='center', va='bottom')\n",
    "    fig.tight_layout()\n",
    "    plt.savefig('/home/jimge/public/CAP5610/hw5/%s.png' % err)\n",
    "\n"
   ]
  },
  {
   "cell_type": "code",
   "execution_count": 283,
   "id": "mysterious-playback",
   "metadata": {},
   "outputs": [
    {
     "name": "stdout",
     "output_type": "stream",
     "text": [
      "6.48406457901001\n",
      "6.190764665603638\n",
      "6.2906739711761475\n",
      "6.418031692504883\n",
      "7.227055549621582\n",
      "6.63879656791687\n",
      "6.7387518882751465\n",
      "7.554613351821899\n",
      "6.962657928466797\n",
      "7.072861433029175\n",
      "7.804988145828247\n",
      "7.2121741771698\n",
      "7.3281638622283936\n",
      "8.011663913726807\n",
      "7.402384519577026\n",
      "7.487701654434204\n",
      "8.797772407531738\n",
      "7.709888219833374\n",
      "7.771116733551025\n",
      "8.423296213150024\n",
      "7.880270481109619\n",
      "7.855159521102905\n",
      "8.58014702796936\n",
      "7.913832426071167\n",
      "8.46052598953247\n",
      "9.579384565353394\n",
      "8.817336082458496\n",
      "8.439600706100464\n",
      "9.027182817459106\n",
      "8.486713409423828\n",
      "8.45279335975647\n",
      "9.532708883285522\n",
      "8.536646604537964\n",
      "8.686445951461792\n",
      "9.473091125488281\n",
      "8.60627031326294\n",
      "8.608056783676147\n",
      "9.161945581436157\n",
      "8.518991947174072\n",
      "8.561491966247559\n",
      "9.292549848556519\n",
      "8.642428874969482\n",
      "8.654297351837158\n",
      "9.354627132415771\n",
      "8.706582069396973\n",
      "8.742661476135254\n",
      "9.478857040405273\n",
      "8.732729434967041\n",
      "8.792518854141235\n",
      "9.468757390975952\n",
      "8.81006669998169\n",
      "8.772572040557861\n",
      "9.51034665107727\n",
      "9.179973363876343\n",
      "9.135250329971313\n",
      "9.655529975891113\n",
      "8.886131048202515\n",
      "8.999226093292236\n",
      "10.242775440216064\n",
      "8.970109701156616\n",
      "8.959597826004028\n",
      "9.648587226867676\n",
      "8.936724424362183\n",
      "8.988013744354248\n",
      "9.958723306655884\n",
      "9.737281084060669\n",
      "9.11999225616455\n",
      "10.040040731430054\n",
      "8.991395473480225\n",
      "9.057966232299805\n",
      "10.008548021316528\n",
      "9.84245228767395\n",
      "9.802489519119263\n",
      "10.440492153167725\n",
      "9.500582218170166\n",
      "9.572805881500244\n",
      "9.876091957092285\n",
      "9.130244255065918\n",
      "9.15148138999939\n"
     ]
    }
   ],
   "source": [
    "'''\n",
    "Task 3 part f - compute KNN for a bunch of K on UCF\n",
    "'''\n",
    "ucf_k_range = list(range(1, 80))\n",
    "out_ucf_k = []\n",
    "for k in ucf_k_range:\n",
    "    t = time()\n",
    "    ucf = cross_validate(KNNBasic(k=k, sim_options={'user_based': True}, verbose=False), data, ['rmse'], kf)\n",
    "    print(time()-t)\n",
    "    out_ucf_k += [ucf]"
   ]
  },
  {
   "cell_type": "code",
   "execution_count": 284,
   "id": "foreign-anniversary",
   "metadata": {},
   "outputs": [
    {
     "data": {
      "text/plain": [
       "(16, 0.9621448358613593)"
      ]
     },
     "execution_count": 284,
     "metadata": {},
     "output_type": "execute_result"
    },
    {
     "data": {
      "image/png": "[encoded data removed]",
      "text/plain": [
       "<Figure size 432x288 with 1 Axes>"
      ]
     },
     "metadata": {
      "needs_background": "light"
     },
     "output_type": "display_data"
    }
   ],
   "source": [
    "'''\n",
    "Task 3 part f - plot performance of UCF versus K, and find the minimum\n",
    "'''\n",
    "y = list(map(lambda x: np.mean(x['test_rmse']), out_ucf_k))\n",
    "\n",
    "fig, ax = plt.subplots()\n",
    "ax.plot(ucf_k_range, y)\n",
    "ax.set_ylabel('RMSE')\n",
    "ax.set_xlabel('K')\n",
    "\n",
    "plt.savefig('/home/jimge/public/CAP5610/hw5/UCF-K.png')\n",
    "\n",
    "l = list(zip(ucf_k_range, y))\n",
    "#print(l)\n",
    "min(l, key=lambda x: x[1])"
   ]
  },
  {
   "cell_type": "code",
   "execution_count": 142,
   "id": "great-adapter",
   "metadata": {},
   "outputs": [
    {
     "name": "stdout",
     "output_type": "stream",
     "text": [
      "37.51106595993042\n",
      "37.91109871864319\n",
      "39.558127641677856\n",
      "39.82866096496582\n",
      "39.36867046356201\n",
      "40.22761940956116\n",
      "40.44986867904663\n",
      "39.51140761375427\n",
      "40.488181352615356\n",
      "40.43969511985779\n",
      "39.67243194580078\n",
      "39.90096187591553\n",
      "40.95035934448242\n",
      "40.16955327987671\n",
      "40.23811459541321\n",
      "41.24489212036133\n",
      "40.742802143096924\n",
      "40.681533336639404\n",
      "41.48475003242493\n",
      "41.03447914123535\n",
      "41.37857961654663\n",
      "42.026389360427856\n",
      "41.6087601184845\n",
      "42.61497449874878\n",
      "42.045777320861816\n",
      "42.710227727890015\n",
      "42.839415311813354\n",
      "42.065420150756836\n",
      "43.14369869232178\n",
      "42.37712788581848\n",
      "42.86094546318054\n",
      "43.72067952156067\n",
      "42.85179018974304\n",
      "43.872732400894165\n",
      "43.438114404678345\n",
      "43.89833664894104\n",
      "43.78305673599243\n",
      "44.73292875289917\n",
      "43.91313886642456\n",
      "44.05300164222717\n",
      "45.54487705230713\n",
      "44.32506203651428\n",
      "46.77572417259216\n",
      "46.49984955787659\n",
      "46.208110094070435\n",
      "47.57520508766174\n",
      "45.73621392250061\n",
      "46.95440101623535\n",
      "48.620423793792725\n",
      "47.07726573944092\n",
      "46.56076717376709\n",
      "49.258610010147095\n",
      "48.37233090400696\n",
      "48.122570514678955\n",
      "48.76348924636841\n",
      "46.91038990020752\n",
      "48.17521405220032\n",
      "46.788657665252686\n",
      "47.08692669868469\n",
      "46.42358064651489\n",
      "48.11855363845825\n",
      "47.17076253890991\n",
      "48.528306007385254\n",
      "47.99134039878845\n",
      "47.52088737487793\n",
      "47.51695466041565\n",
      "47.818243741989136\n",
      "47.0377779006958\n",
      "47.33005666732788\n",
      "48.33955407142639\n",
      "47.588820695877075\n",
      "48.2832977771759\n",
      "47.82172656059265\n",
      "48.7363383769989\n",
      "47.97518181800842\n",
      "49.435734033584595\n",
      "48.950331687927246\n",
      "49.60957670211792\n",
      "48.47277784347534\n"
     ]
    }
   ],
   "source": [
    "icf_k_range = list(range(1,80))\n",
    "icf_k_out = []\n",
    "for k in icf_k_range:\n",
    "    t = time()\n",
    "    ucf = cross_validate(KNNBasic(k=k, sim_options={'user_based': False}, verbose=False), data, ['rmse'], kf)\n",
    "    print(time()-t)\n",
    "    icf_k_out += [ucf]"
   ]
  },
  {
   "cell_type": "code",
   "execution_count": 285,
   "id": "junior-apollo",
   "metadata": {},
   "outputs": [
    {
     "data": {
      "text/plain": [
       "(15, 0.9621448358613593)"
      ]
     },
     "execution_count": 285,
     "metadata": {},
     "output_type": "execute_result"
    },
    {
     "data": {
      "image/png": "[encoded data removed]",
      "text/plain": [
       "<Figure size 432x288 with 1 Axes>"
      ]
     },
     "metadata": {
      "needs_background": "light"
     },
     "output_type": "display_data"
    }
   ],
   "source": [
    "x = np.arange(80)\n",
    "\n",
    "y0 = list(map(lambda x: np.mean(x['test_rmse']), out_ucf_k))\n",
    "y1 = list(map(lambda x: np.mean(x['test_rmse']), icf_k_out))\n",
    "\n",
    "fig, ax = plt.subplots()\n",
    "ax.plot(np.arange(len(y0)), y0, label='UCF')\n",
    "ax.plot(np.arange(len(y1)), y1, label='ICF')\n",
    "ax.legend()\n",
    "ax.set_ylabel('RMSE')\n",
    "ax.set_xlabel('K')\n",
    "\n",
    "plt.savefig('/home/jimge/public/CAP5610/hw5/UCF-ICF-K.png')\n",
    "\n",
    "l = list(zip(x,y))\n",
    "#print(l)\n",
    "min(l, key=lambda x: x[1])"
   ]
  }
 ],
 "metadata": {
  "kernelspec": {
   "display_name": "Python 3",
   "language": "python",
   "name": "python3"
  },
  "language_info": {
   "codemirror_mode": {
    "name": "ipython",
    "version": 3
   },
   "file_extension": ".py",
   "mimetype": "text/x-python",
   "name": "python",
   "nbconvert_exporter": "python",
   "pygments_lexer": "ipython3",
   "version": "3.6.9"
  }
 },
 "nbformat": 4,
 "nbformat_minor": 5
}
